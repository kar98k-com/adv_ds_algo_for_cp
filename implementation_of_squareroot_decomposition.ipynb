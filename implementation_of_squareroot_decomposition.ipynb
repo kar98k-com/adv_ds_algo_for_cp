{
  "nbformat": 4,
  "nbformat_minor": 0,
  "metadata": {
    "colab": {
      "name": "implementation of squareroot decomposition.ipynb",
      "provenance": [],
      "authorship_tag": "ABX9TyNWTD9YADQypuzMaYnwdpxE",
      "include_colab_link": true
    },
    "kernelspec": {
      "name": "python3",
      "display_name": "Python 3"
    },
    "language_info": {
      "name": "python"
    }
  },
  "cells": [
    {
      "cell_type": "markdown",
      "metadata": {
        "id": "view-in-github",
        "colab_type": "text"
      },
      "source": [
        "<a href=\"https://colab.research.google.com/github/kar98k-com/adv_ds_algo_for_cp/blob/main/implementation_of_squareroot_decomposition.ipynb\" target=\"_parent\"><img src=\"https://colab.research.google.com/assets/colab-badge.svg\" alt=\"Open In Colab\"/></a>"
      ]
    },
    {
      "cell_type": "code",
      "execution_count": null,
      "metadata": {
        "id": "IcujJ_FOSwS-"
      },
      "outputs": [],
      "source": [
        "# cook your dish here\n",
        "import math\n",
        "#[int(a) for a in input().split()]\n",
        "n,q=[int(a) for a in input().split()]\n",
        "arr=[int(a) for a in input().split()]\n",
        "val=int(math.sqrt(n))\n",
        "d={}\n",
        "for i in range(n):\n",
        "            if (i+1)//val in d:\n",
        "                d[(i+1)//val]=d[(i+1)//val]+arr[i]\n",
        "            else:\n",
        "                d[(i+1)//val]=arr[i]\n",
        "for l in range(q):\n",
        "            s=0\n",
        "            lf,ri=[int(a) for a in input().split()]\n",
        "            for k in range(lf,ri+1):\n",
        "                if k//val==lf//val+1:\n",
        "                    break\n",
        "                s=s+arr[k-1]\n",
        "            if lf//val==ri//val:\n",
        "                print(s)\n",
        "                continue\n",
        "            for k in range(ri,lf-1,-1):\n",
        "                if k//val==ri//val-1:\n",
        "                    break\n",
        "                s=s+arr[k-1]\n",
        "            for k in range((lf//val)+1,(ri//val)):\n",
        "                if k in d:\n",
        "                    s=s+d[k]\n",
        "            print(s)"
      ]
    }
  ]
}