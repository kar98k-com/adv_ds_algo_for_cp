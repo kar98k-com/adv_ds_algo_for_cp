{
  "nbformat": 4,
  "nbformat_minor": 0,
  "metadata": {
    "colab": {
      "name": "basic segmentree.ipynb",
      "provenance": [],
      "authorship_tag": "ABX9TyM21QGewDFsIRUfV18+8wsF",
      "include_colab_link": true
    },
    "kernelspec": {
      "name": "python3",
      "display_name": "Python 3"
    },
    "language_info": {
      "name": "python"
    }
  },
  "cells": [
    {
      "cell_type": "markdown",
      "metadata": {
        "id": "view-in-github",
        "colab_type": "text"
      },
      "source": [
        "<a href=\"https://colab.research.google.com/github/kar98k-com/adv_ds_algo_for_cp/blob/main/basic_segmentree.ipynb\" target=\"_parent\"><img src=\"https://colab.research.google.com/assets/colab-badge.svg\" alt=\"Open In Colab\"/></a>"
      ]
    },
    {
      "cell_type": "code",
      "execution_count": null,
      "metadata": {
        "id": "U1owMoq75saJ"
      },
      "outputs": [],
      "source": [
        "class SegmentTree():\n",
        "    def __init__(self,arr):\n",
        "        self.narr=[-1]\n",
        "        narr=[-1]\n",
        "        for l in rg(1,2*len(arr)+1+1):\n",
        "            self.narr.append(-1)\n",
        "        self.arr=arr\n",
        "    def buildTree(self,i,j,l):\n",
        "            if i==j:\n",
        "                self.narr[l]=self.arr[i]\n",
        "                return self.arr[i]\n",
        "            mid=(i+j)//2\n",
        "            lt=self.buildTree(self.narr,self.arr,i,mid,2*l)\n",
        "            ri=self.buildTree(self.narr,self.arr,mid+1,j,2*l+1)\n",
        "            self.narr[l]=lt+ri\n",
        "            return lt+ri\n",
        "    def pointUpdt(self,i,j,l,point,val):\n",
        "        self.narr[l]+=val\n",
        "        if i==point and j==point:\n",
        "            return val\n",
        "        mid=(i+j)//2\n",
        "        if point<=mid:\n",
        "            self.pointUpdt(i,mid,2*l,point,val)\n",
        "        if point>=mid+1:\n",
        "            self.pointUpdt(mid+1,j,2*l+1,point,val)\n",
        "    def rangeUpdate(self,i,j,L,R,l,val):\n",
        "        mid=(i+j)//2\n",
        "        if L<=i and j<=R:\n",
        "            self.narr[l]+=val\n",
        "            return \n",
        "        if L<=i :\n",
        "            self.rangeUpdate(i,mid,L,R,2*l,val)\n",
        "        if mid+1<=R:\n",
        "            self.rangeUpdate(mid+1,j,L,R,2*l+1,val)\n",
        "   \n",
        "    def rangeQuery(self,i,j,L,R,l):\n",
        "        if L<=i and j<=R:\n",
        "            return self.narr[l]\n",
        "        mid=(i+j)//2\n",
        "        ans=0\n",
        "        if L<=mid:\n",
        "            ans+=self.rangeQuery(i,mid,L,R,2*l)\n",
        "        if mid+1<=R:\n",
        "            ans+=self.rangeQuery(mid+1,j,L,R,2*l+1)\n",
        "        return ans"
      ]
    },
    {
      "cell_type": "code",
      "source": [
        ""
      ],
      "metadata": {
        "id": "64oue5Xp5tSa"
      },
      "execution_count": null,
      "outputs": []
    }
  ]
}